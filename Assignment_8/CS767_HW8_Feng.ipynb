{
 "cells": [
  {
   "cell_type": "code",
   "execution_count": 1,
   "metadata": {
    "collapsed": true,
    "pycharm": {
     "name": "#%%\n"
    }
   },
   "outputs": [],
   "source": [
    "import tensorflow as tf\n",
    "from tensorflow import keras\n",
    "import numpy as np\n",
    "from keras.models import Model\n",
    "from keras.layers import Input, Conv2D, MaxPooling2D, GlobalAveragePooling2D, BatchNormalization, Dense, Activation, Add\n",
    "from keras.datasets import cifar10\n",
    "from keras.utils import to_categorical"
   ]
  },
  {
   "cell_type": "code",
   "execution_count": 2,
   "outputs": [],
   "source": [
    "(x_train, y_train), (x_test, y_test) = cifar10.load_data()"
   ],
   "metadata": {
    "collapsed": false,
    "pycharm": {
     "name": "#%%\n"
    }
   }
  },
  {
   "cell_type": "code",
   "execution_count": 3,
   "outputs": [],
   "source": [
    "x_train = x_train.astype('float32') / 255.0\n",
    "x_test = x_test.astype('float32') / 255.0\n",
    "y_train = to_categorical(y_train, num_classes=10)\n",
    "y_test = to_categorical(y_test, num_classes=10)"
   ],
   "metadata": {
    "collapsed": false,
    "pycharm": {
     "name": "#%%\n"
    }
   }
  },
  {
   "cell_type": "code",
   "execution_count": 4,
   "outputs": [],
   "source": [
    "InitSeed = 767\n",
    "tf.random.set_seed(InitSeed)\n",
    "np.random.seed(InitSeed)"
   ],
   "metadata": {
    "collapsed": false,
    "pycharm": {
     "name": "#%%\n"
    }
   }
  },
  {
   "cell_type": "code",
   "execution_count": 18,
   "outputs": [],
   "source": [
    "def ResidualUnit(x, filters, kn, str):\n",
    "    tmp = x\n",
    "    x = Conv2D(filters, kernel_size=kn, strides=str, padding='same')(x)\n",
    "    x = BatchNormalization()(x)\n",
    "    x = Activation('relu')(x)\n",
    "    x = Conv2D(filters, kernel_size=kn, strides=1, padding='same')(x)\n",
    "    x = BatchNormalization()(x)\n",
    "    if str != 1 or x.shape[-1] != tmp.shape[-1]:\n",
    "        tmp = Conv2D(filters, kernel_size=1, strides=str, padding='same')(tmp)\n",
    "        tmp = BatchNormalization()(tmp)\n",
    "    x = Add()([x, tmp])\n",
    "    x = Activation('relu')(x)\n",
    "    return x"
   ],
   "metadata": {
    "collapsed": false,
    "pycharm": {
     "name": "#%%\n"
    }
   }
  },
  {
   "cell_type": "code",
   "execution_count": 20,
   "outputs": [],
   "source": [
    "input = Input(shape=(32, 32, 3))\n",
    "x = Conv2D(64, kernel_size=7, strides=2, padding='same')(input)\n",
    "x = BatchNormalization()(x)\n",
    "x = Activation('relu')(x)\n",
    "x = MaxPooling2D(pool_size=3, strides=2, padding='same')(x)\n",
    "indx = 0\n",
    "for i in [64,64,64,128,128,128,256,256,256,512,512,512]:\n",
    "    if indx == 3 or indx == 3 or indx == 3:\n",
    "        x = ResidualUnit(x, i, 3, 2)\n",
    "    else:\n",
    "        x = ResidualUnit(x, i, 3, 1)\n",
    "    indx+=1\n",
    "x = GlobalAveragePooling2D()(x)\n",
    "output = Dense(10, activation='softmax')(x)\n",
    "ResNet50 = Model(inputs=input, outputs=output)"
   ],
   "metadata": {
    "collapsed": false,
    "pycharm": {
     "name": "#%%\n"
    }
   }
  },
  {
   "cell_type": "code",
   "execution_count": 7,
   "outputs": [],
   "source": [
    "KerasModel = tf.keras.applications.resnet50.ResNet50(weights='imagenet', include_top=False, input_shape=(32, 32, 3))"
   ],
   "metadata": {
    "collapsed": false,
    "pycharm": {
     "name": "#%%\n"
    }
   }
  },
  {
   "cell_type": "code",
   "execution_count": 8,
   "outputs": [],
   "source": [
    "for layer in KerasModel.layers[:-1]:\n",
    "    layer.trainable = False"
   ],
   "metadata": {
    "collapsed": false,
    "pycharm": {
     "name": "#%%\n"
    }
   }
  },
  {
   "cell_type": "code",
   "execution_count": 9,
   "outputs": [],
   "source": [
    "x = KerasModel.output\n",
    "x = GlobalAveragePooling2D()(x)\n",
    "output = Dense(10, activation='softmax')(x)\n",
    "model = Model(inputs=KerasModel.input, outputs=output)"
   ],
   "metadata": {
    "collapsed": false,
    "pycharm": {
     "name": "#%%\n"
    }
   }
  },
  {
   "cell_type": "code",
   "execution_count": 13,
   "outputs": [],
   "source": [
    "model.compile(optimizer='adam', loss='categorical_crossentropy', metrics=['accuracy'])"
   ],
   "metadata": {
    "collapsed": false,
    "pycharm": {
     "name": "#%%\n"
    }
   }
  },
  {
   "cell_type": "code",
   "execution_count": 11,
   "outputs": [
    {
     "name": "stdout",
     "output_type": "stream",
     "text": [
      "Epoch 1/5\n",
      "1563/1563 [==============================] - 231s 146ms/step - loss: 2.0758 - accuracy: 0.2423 - val_loss: 1.9060 - val_accuracy: 0.3196\n",
      "Epoch 2/5\n",
      "1563/1563 [==============================] - 219s 140ms/step - loss: 1.9180 - accuracy: 0.3090 - val_loss: 1.8983 - val_accuracy: 0.3179\n",
      "Epoch 3/5\n",
      "1563/1563 [==============================] - 215s 138ms/step - loss: 1.8602 - accuracy: 0.3354 - val_loss: 1.8261 - val_accuracy: 0.3486\n",
      "Epoch 4/5\n",
      "1563/1563 [==============================] - 214s 137ms/step - loss: 1.8280 - accuracy: 0.3475 - val_loss: 1.8020 - val_accuracy: 0.3537\n",
      "Epoch 5/5\n",
      "1563/1563 [==============================] - 217s 139ms/step - loss: 1.8051 - accuracy: 0.3571 - val_loss: 1.7577 - val_accuracy: 0.3790\n"
     ]
    },
    {
     "data": {
      "text/plain": "<keras.callbacks.History at 0x1e72c2743a0>"
     },
     "execution_count": 11,
     "metadata": {},
     "output_type": "execute_result"
    }
   ],
   "source": [
    "model.fit(x_train, y_train, batch_size=32, epochs=5, validation_data=(x_test, y_test))"
   ],
   "metadata": {
    "collapsed": false,
    "pycharm": {
     "name": "#%%\n"
    }
   }
  },
  {
   "cell_type": "code",
   "execution_count": 15,
   "outputs": [
    {
     "name": "stdout",
     "output_type": "stream",
     "text": [
      "313/313 [==============================] - 37s 111ms/step - loss: 1.7577 - accuracy: 0.3790\n"
     ]
    },
    {
     "data": {
      "text/plain": "0.3790000081062317"
     },
     "execution_count": 15,
     "metadata": {},
     "output_type": "execute_result"
    }
   ],
   "source": [
    "loss, accuracy = model.evaluate(x_test, y_test)\n",
    "accuracy"
   ],
   "metadata": {
    "collapsed": false,
    "pycharm": {
     "name": "#%%\n"
    }
   }
  },
  {
   "cell_type": "code",
   "execution_count": null,
   "outputs": [],
   "source": [],
   "metadata": {
    "collapsed": false,
    "pycharm": {
     "name": "#%%\n"
    }
   }
  }
 ],
 "metadata": {
  "kernelspec": {
   "display_name": "Python 3",
   "language": "python",
   "name": "python3"
  },
  "language_info": {
   "codemirror_mode": {
    "name": "ipython",
    "version": 2
   },
   "file_extension": ".py",
   "mimetype": "text/x-python",
   "name": "python",
   "nbconvert_exporter": "python",
   "pygments_lexer": "ipython2",
   "version": "2.7.6"
  }
 },
 "nbformat": 4,
 "nbformat_minor": 0
}
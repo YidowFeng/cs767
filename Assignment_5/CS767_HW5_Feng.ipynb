{
 "cells": [
  {
   "cell_type": "code",
   "execution_count": 124,
   "metadata": {
    "collapsed": true
   },
   "outputs": [],
   "source": [
    "from tensorflow import keras\n",
    "import matplotlib.pyplot as plt\n",
    "import pandas as pd\n",
    "import keras_tuner as kt\n",
    "import numpy as np\n",
    "from keras import layers\n",
    "import time\n",
    "\n",
    "from keras.utils import to_categorical"
   ]
  },
  {
   "cell_type": "markdown",
   "source": [],
   "metadata": {
    "collapsed": false
   }
  },
  {
   "cell_type": "code",
   "execution_count": 3,
   "outputs": [],
   "source": [
    "#The input is MNIST fashion database\n",
    "fashion_mnist = keras.datasets.fashion_mnist\n",
    "(X_train_full, Y_train_full), (X_test, Y_test) = fashion_mnist.load_data()\n",
    "class_names = [\"T-shirt/top\", \"Trouser\", \"pullover\", \"Dress\", \"Coat\",\n",
    "                \"Sandal\", \"Shirt\", \"Sneaker\", \"Bag\", \"Ankle_boot\"]"
   ],
   "metadata": {
    "collapsed": false,
    "pycharm": {
     "name": "#%%\n"
    }
   }
  },
  {
   "cell_type": "code",
   "execution_count": 6,
   "outputs": [
    {
     "data": {
      "text/plain": "60000"
     },
     "execution_count": 6,
     "metadata": {},
     "output_type": "execute_result"
    }
   ],
   "source": [
    "len(X_train_full)"
   ],
   "metadata": {
    "collapsed": false,
    "pycharm": {
     "name": "#%%\n"
    }
   }
  },
  {
   "cell_type": "code",
   "execution_count": 7,
   "outputs": [
    {
     "data": {
      "text/plain": "6000.0"
     },
     "execution_count": 7,
     "metadata": {},
     "output_type": "execute_result"
    }
   ],
   "source": [
    "val = 0.1 * 60000\n",
    "val = int(val)"
   ],
   "metadata": {
    "collapsed": false,
    "pycharm": {
     "name": "#%%\n"
    }
   }
  },
  {
   "cell_type": "code",
   "execution_count": 4,
   "outputs": [],
   "source": [
    "# Set aside 10% of the samples for validation\n",
    "X_valid, X_train = X_train_full[:val] / 255.0, X_train_full[val:] / 255.0\n",
    "Y_valid, Y_train = Y_train_full[:val], Y_train_full[val:]"
   ],
   "metadata": {
    "collapsed": false,
    "pycharm": {
     "name": "#%%\n"
    }
   }
  },
  {
   "cell_type": "code",
   "execution_count": 29,
   "outputs": [],
   "source": [
    "def define_model(learning_rate, optimizer, num_layers, num_neuron):\n",
    "    # build model\n",
    "    model = keras.models.Sequential()\n",
    "    model.add(keras.layers.Flatten(input_shape=[28, 28]))\n",
    "    # num_neurons and layers\n",
    "    for layer in range(num_layers):\n",
    "        model.add(keras.layers.Dense(num_neuron, activation=\"relu\"))\n",
    "    model.add(keras.layers.Dense(10, activation=\"softmax\"))\n",
    "\n",
    "    # choose optimizers\n",
    "    if(optimizer == \"Nesterov\"):\n",
    "        model.compile(loss=\"sparse_categorical_crossentropy\",\n",
    "        optimizer=keras.optimizers.SGD(learning_rate=learning_rate),\n",
    "        metrics=[\"accuracy\"])\n",
    "    elif(optimizer == \"Adam\"):\n",
    "        model.compile(loss=\"sparse_categorical_crossentropy\",\n",
    "        optimizer=keras.optimizers.Adam(learning_rate=learning_rate),\n",
    "        metrics=[\"accuracy\"])\n",
    "    elif(optimizer == \"RMSProp\"):\n",
    "        model.compile(loss=\"sparse_categorical_crossentropy\",\n",
    "        optimizer=keras.optimizers.RMSprop(learning_rate=learning_rate),\n",
    "        metrics=[\"accuracy\"])\n",
    "\n",
    "    tmp = model.fit(X_train, Y_train, epochs=10,\n",
    "                        validation_data=(X_valid, Y_valid),\n",
    "                        verbose=0)\n",
    "\n",
    "    # get accuracy\n",
    "    cost, accuracy = model.evaluate(X_test, Y_test)\n",
    "    # Check if this model has the best accuracy\n",
    "    print(learning_rate, optimizer, num_layers, num_neuron)\n",
    "    return cost, accuracy, model, tmp"
   ],
   "metadata": {
    "collapsed": false,
    "pycharm": {
     "name": "#%%\n"
    }
   }
  },
  {
   "cell_type": "code",
   "execution_count": 19,
   "outputs": [
    {
     "name": "stdout",
     "output_type": "stream",
     "text": [
      "313/313 [==============================] - 1s 2ms/step - loss: 83.2998 - accuracy: 0.8486\n"
     ]
    },
    {
     "data": {
      "text/plain": "(83.29979705810547,\n 0.8485999703407288,\n <keras.engine.sequential.Sequential at 0x248c50d2f10>)"
     },
     "execution_count": 19,
     "metadata": {},
     "output_type": "execute_result"
    }
   ],
   "source": [
    "define_model(0.001, \"Adam\", 1, 50)"
   ],
   "metadata": {
    "collapsed": false,
    "pycharm": {
     "name": "#%%\n"
    }
   }
  },
  {
   "cell_type": "code",
   "execution_count": 20,
   "outputs": [
    {
     "name": "stdout",
     "output_type": "stream",
     "text": [
      "313/313 [==============================] - 1s 2ms/step - loss: 83.3528 - accuracy: 0.7879\n"
     ]
    },
    {
     "data": {
      "text/plain": "(83.35282897949219,\n 0.7878999710083008,\n <keras.engine.sequential.Sequential at 0x248c50d2a30>)"
     },
     "execution_count": 20,
     "metadata": {},
     "output_type": "execute_result"
    }
   ],
   "source": [
    "define_model(0.001, \"Nesterov\", 1, 50)"
   ],
   "metadata": {
    "collapsed": false,
    "pycharm": {
     "name": "#%%\n"
    }
   }
  },
  {
   "cell_type": "code",
   "execution_count": 21,
   "outputs": [
    {
     "name": "stdout",
     "output_type": "stream",
     "text": [
      "313/313 [==============================] - 1s 2ms/step - loss: 120.6535 - accuracy: 0.8463\n"
     ]
    },
    {
     "data": {
      "text/plain": "(120.65353393554688,\n 0.8463000059127808,\n <keras.engine.sequential.Sequential at 0x248c636ebb0>)"
     },
     "execution_count": 21,
     "metadata": {},
     "output_type": "execute_result"
    }
   ],
   "source": [
    "define_model(0.001, \"RMSProp\", 1, 50)"
   ],
   "metadata": {
    "collapsed": false,
    "pycharm": {
     "name": "#%%\n"
    }
   }
  },
  {
   "cell_type": "raw",
   "source": [
    "Pick Adam"
   ],
   "metadata": {
    "collapsed": false,
    "pycharm": {
     "name": "#%% raw\n"
    }
   }
  },
  {
   "cell_type": "code",
   "execution_count": 22,
   "outputs": [
    {
     "name": "stdout",
     "output_type": "stream",
     "text": [
      "313/313 [==============================] - 1s 2ms/step - loss: 121.2276 - accuracy: 0.7849\n"
     ]
    },
    {
     "data": {
      "text/plain": "(121.22757720947266,\n 0.7849000096321106,\n <keras.engine.sequential.Sequential at 0x248c636e190>)"
     },
     "execution_count": 22,
     "metadata": {},
     "output_type": "execute_result"
    }
   ],
   "source": [
    "define_model(0.01, \"Adam\", 1, 50)"
   ],
   "metadata": {
    "collapsed": false,
    "pycharm": {
     "name": "#%%\n"
    }
   }
  },
  {
   "cell_type": "code",
   "execution_count": 23,
   "outputs": [
    {
     "name": "stdout",
     "output_type": "stream",
     "text": [
      "313/313 [==============================] - 1s 2ms/step - loss: 2.2109 - accuracy: 0.1399\n"
     ]
    },
    {
     "data": {
      "text/plain": "(2.2109336853027344,\n 0.13989999890327454,\n <keras.engine.sequential.Sequential at 0x248a1c2d640>)"
     },
     "execution_count": 23,
     "metadata": {},
     "output_type": "execute_result"
    }
   ],
   "source": [
    "define_model(0.1, \"Adam\", 1, 50)"
   ],
   "metadata": {
    "collapsed": false,
    "pycharm": {
     "name": "#%%\n"
    }
   }
  },
  {
   "cell_type": "markdown",
   "source": [
    "Pick 0.001"
   ],
   "metadata": {
    "collapsed": false,
    "pycharm": {
     "name": "#%% md\n"
    }
   }
  },
  {
   "cell_type": "code",
   "execution_count": 24,
   "outputs": [
    {
     "name": "stdout",
     "output_type": "stream",
     "text": [
      "313/313 [==============================] - 1s 2ms/step - loss: 75.7626 - accuracy: 0.8368\n"
     ]
    },
    {
     "data": {
      "text/plain": "(75.7625732421875,\n 0.8367999792098999,\n <keras.engine.sequential.Sequential at 0x248c65fbd90>)"
     },
     "execution_count": 24,
     "metadata": {},
     "output_type": "execute_result"
    }
   ],
   "source": [
    "define_model(0.001, \"Adam\", 3, 50)"
   ],
   "metadata": {
    "collapsed": false,
    "pycharm": {
     "name": "#%%\n"
    }
   }
  },
  {
   "cell_type": "code",
   "execution_count": 25,
   "outputs": [
    {
     "name": "stdout",
     "output_type": "stream",
     "text": [
      "313/313 [==============================] - 1s 2ms/step - loss: 62.2492 - accuracy: 0.8320\n"
     ]
    },
    {
     "data": {
      "text/plain": "(62.24919891357422,\n 0.8320000171661377,\n <keras.engine.sequential.Sequential at 0x248c66563a0>)"
     },
     "execution_count": 25,
     "metadata": {},
     "output_type": "execute_result"
    }
   ],
   "source": [
    "define_model(0.001, \"Adam\", 5, 50)"
   ],
   "metadata": {
    "collapsed": false,
    "pycharm": {
     "name": "#%%\n"
    }
   }
  },
  {
   "cell_type": "markdown",
   "source": [
    "Pick 1"
   ],
   "metadata": {
    "collapsed": false,
    "pycharm": {
     "name": "#%% md\n"
    }
   }
  },
  {
   "cell_type": "code",
   "execution_count": 26,
   "outputs": [
    {
     "name": "stdout",
     "output_type": "stream",
     "text": [
      "313/313 [==============================] - 1s 2ms/step - loss: 105.5203 - accuracy: 0.8598\n"
     ]
    },
    {
     "data": {
      "text/plain": "(105.52030944824219,\n 0.8597999811172485,\n <keras.engine.sequential.Sequential at 0x248c65155e0>)"
     },
     "execution_count": 26,
     "metadata": {},
     "output_type": "execute_result"
    }
   ],
   "source": [
    "define_model(0.001, \"Adam\", 1, 200)"
   ],
   "metadata": {
    "collapsed": false,
    "pycharm": {
     "name": "#%%\n"
    }
   }
  },
  {
   "cell_type": "code",
   "execution_count": 30,
   "outputs": [
    {
     "name": "stdout",
     "output_type": "stream",
     "text": [
      "313/313 [==============================] - 1s 3ms/step - loss: 94.0861 - accuracy: 0.8776\n",
      "0.001 Adam 1 500\n"
     ]
    }
   ],
   "source": [
    "cost, accuracy, model_cur, history= define_model(0.001, \"Adam\", 1, 500)"
   ],
   "metadata": {
    "collapsed": false,
    "pycharm": {
     "name": "#%%\n"
    }
   }
  },
  {
   "cell_type": "code",
   "execution_count": 37,
   "outputs": [
    {
     "data": {
      "text/plain": "<Figure size 800x500 with 1 Axes>",
      "image/png": "[encoded data removed]"
     },
     "metadata": {},
     "output_type": "display_data"
    }
   ],
   "source": [
    "df = pd.DataFrame(history.history)\n",
    "df.plot(figsize=(5, 5))\n",
    "plt.grid(True)\n",
    "plt.gca().set_ylim(0, 1)\n",
    "plt.show()"
   ],
   "metadata": {
    "collapsed": false,
    "pycharm": {
     "name": "#%%\n"
    }
   }
  },
  {
   "cell_type": "code",
   "execution_count": 45,
   "outputs": [],
   "source": [
    "def build(hp):\n",
    "     # build model\n",
    "    model = keras.models.Sequential()\n",
    "    model.add(keras.layers.Flatten(input_shape=[28, 28]))\n",
    "    # hidden layers and nuerons\n",
    "    for i in range(hp.Int('num_layers', 1, 5)):\n",
    "        model.add(keras.layers.Dense(hp.Choice('neurons', values=[50,100,200,500]),\n",
    "                                     activation='relu'))\n",
    "    model.add(keras.layers.Dense(units=10, activation='softmax'))\n",
    "\n",
    "    learning_rate = hp.Choice('learning_rate', values=[0.001, 0.01, 0.1])\n",
    "    optimizer = hp.Choice('optimizer', values=['SGD', 'Adam', 'RMSProp'])\n",
    "    # get the model\n",
    "    model.compile(optimizer=optimizer,\n",
    "                  loss='sparse_categorical_crossentropy',\n",
    "                  metrics=['accuracy'])\n",
    "\n",
    "    return model"
   ],
   "metadata": {
    "collapsed": false,
    "pycharm": {
     "name": "#%%\n"
    }
   }
  },
  {
   "cell_type": "code",
   "execution_count": 46,
   "outputs": [],
   "source": [
    "randS = kt.RandomSearch(build,\n",
    "                        objective='val_accuracy',\n",
    "                        max_trials=10,\n",
    "                        executions_per_trial=3,\n",
    "                        directory='my_dir',\n",
    "                        project_name='mnist_fashion')"
   ],
   "metadata": {
    "collapsed": false,
    "pycharm": {
     "name": "#%%\n"
    }
   }
  },
  {
   "cell_type": "code",
   "execution_count": null,
   "outputs": [
    {
     "name": "stdout",
     "output_type": "stream",
     "text": [
      "\n",
      "Search: Running Trial #1\n",
      "\n",
      "Value             |Best Value So Far |Hyperparameter\n",
      "5                 |?                 |num_layers\n",
      "500               |?                 |neurons\n",
      "0.1               |?                 |learning_rate\n",
      "Adam              |?                 |optimizer\n",
      "\n",
      "Epoch 1/10\n",
      "1875/1875 [==============================] - 44s 23ms/step - loss: 0.8644 - accuracy: 0.7954 - val_loss: 0.5096 - val_accuracy: 0.8213\n",
      "Epoch 2/10\n",
      "1875/1875 [==============================] - 50s 27ms/step - loss: 0.4470 - accuracy: 0.8407 - val_loss: 0.4307 - val_accuracy: 0.8428\n",
      "Epoch 3/10\n",
      "1875/1875 [==============================] - 50s 26ms/step - loss: 0.4161 - accuracy: 0.8534 - val_loss: 0.4644 - val_accuracy: 0.8508\n",
      "Epoch 4/10\n",
      "   4/1875 [..............................] - ETA: 41s - loss: 0.4054 - accuracy: 0.8516 "
     ]
    }
   ],
   "source": [
    "randS.search(X_train_full, Y_train_full, epochs=10, validation_data=(X_valid*255, Y_valid))\n",
    "randS.get_best_models(num_models=1)[0]\n",
    "randS.get_best_hyperparameters(num_trials=1)[0]"
   ],
   "metadata": {
    "collapsed": false,
    "pycharm": {
     "name": "#%%\n",
     "is_executing": true
    }
   }
  },
  {
   "cell_type": "code",
   "execution_count": 59,
   "outputs": [],
   "source": [
    "(x_train, y_train), (x_test, y_test) = keras.datasets.mnist.load_data()\n",
    "x_train = x_train[np.isin(y_train,[0, 1, 2, 3, 4])]\n",
    "y_train = y_train[np.isin(y_train,[0, 1, 2, 3, 4])]\n",
    "x_test = x_test[np.isin(y_test,[0, 1, 2, 3, 4])]\n",
    "y_test = y_test[np.isin(y_test,[0, 1, 2, 3, 4])]\n",
    "x_train = x_train.reshape(-1, 28 * 28)\n",
    "x_train = x_train/255.0\n",
    "x_test = x_test.reshape(-1, 28 * 28)\n",
    "x_test = x_test/255.0"
   ],
   "metadata": {
    "collapsed": false,
    "pycharm": {
     "name": "#%%\n"
    }
   }
  },
  {
   "cell_type": "code",
   "execution_count": 55,
   "outputs": [],
   "source": [
    "model = keras.Sequential([\n",
    "    layers.Dense(100, activation='elu', input_shape=(28*28,)),\n",
    "    layers.Dense(100, activation='elu'),\n",
    "    layers.Dense(100, activation='elu'),\n",
    "    layers.Dense(100, activation='elu'),\n",
    "    layers.Dense(100, activation='elu'),\n",
    "    layers.Dense(5, activation='softmax')\n",
    "])"
   ],
   "metadata": {
    "collapsed": false,
    "pycharm": {
     "name": "#%%\n"
    }
   }
  },
  {
   "cell_type": "code",
   "execution_count": 56,
   "outputs": [],
   "source": [
    "model.compile(loss=\"sparse_categorical_crossentropy\",\n",
    "              optimizer=\"adam\",\n",
    "              metrics=[\"accuracy\"])"
   ],
   "metadata": {
    "collapsed": false,
    "pycharm": {
     "name": "#%%\n"
    }
   }
  },
  {
   "cell_type": "code",
   "execution_count": 73,
   "outputs": [
    {
     "name": "stdout",
     "output_type": "stream",
     "text": [
      "Epoch 1/15\n",
      "957/957 [==============================] - 11s 8ms/step - loss: 0.0072 - accuracy: 0.9992 - val_loss: 0.0445 - val_accuracy: 0.9928\n",
      "Epoch 2/15\n",
      "957/957 [==============================] - 6s 6ms/step - loss: 0.0044 - accuracy: 0.9991 - val_loss: 0.0440 - val_accuracy: 0.9936\n",
      "Epoch 3/15\n",
      "957/957 [==============================] - 8s 8ms/step - loss: 0.0018 - accuracy: 0.9996 - val_loss: 0.0420 - val_accuracy: 0.9932\n",
      "Epoch 4/15\n",
      "957/957 [==============================] - 6s 6ms/step - loss: 0.0093 - accuracy: 0.9979 - val_loss: 0.0428 - val_accuracy: 0.9936\n",
      "Epoch 5/15\n",
      "957/957 [==============================] - 6s 7ms/step - loss: 0.0036 - accuracy: 0.9994 - val_loss: 0.0396 - val_accuracy: 0.9942\n",
      "Epoch 6/15\n",
      "957/957 [==============================] - 6s 6ms/step - loss: 0.0043 - accuracy: 0.9988 - val_loss: 0.0482 - val_accuracy: 0.9934\n",
      "Epoch 7/15\n",
      "957/957 [==============================] - 6s 7ms/step - loss: 0.0026 - accuracy: 0.9994 - val_loss: 0.0750 - val_accuracy: 0.9920\n",
      "Epoch 8/15\n",
      "957/957 [==============================] - 7s 7ms/step - loss: 0.0058 - accuracy: 0.9988 - val_loss: 0.0480 - val_accuracy: 0.9924\n",
      "Epoch 9/15\n",
      "957/957 [==============================] - 7s 7ms/step - loss: 0.0030 - accuracy: 0.9992 - val_loss: 0.0266 - val_accuracy: 0.9946\n",
      "Epoch 10/15\n",
      "957/957 [==============================] - 8s 8ms/step - loss: 0.0020 - accuracy: 0.9994 - val_loss: 0.0376 - val_accuracy: 0.9946\n",
      "Epoch 11/15\n",
      "957/957 [==============================] - 8s 8ms/step - loss: 3.1833e-05 - accuracy: 1.0000 - val_loss: 0.0431 - val_accuracy: 0.9946\n",
      "Epoch 12/15\n",
      "957/957 [==============================] - 9s 9ms/step - loss: 6.9948e-06 - accuracy: 1.0000 - val_loss: 0.0434 - val_accuracy: 0.9946\n",
      "Epoch 13/15\n",
      "957/957 [==============================] - 7s 7ms/step - loss: 2.9298e-06 - accuracy: 1.0000 - val_loss: 0.0446 - val_accuracy: 0.9949\n",
      "Epoch 14/15\n",
      "957/957 [==============================] - 7s 7ms/step - loss: 1.6722e-06 - accuracy: 1.0000 - val_loss: 0.0459 - val_accuracy: 0.9949\n"
     ]
    }
   ],
   "source": [
    "model.compile(optimizer='adam', loss='sparse_categorical_crossentropy', metrics=['accuracy'])\n",
    "\n",
    "earlyStop = keras.callbacks.EarlyStopping(monitor='val_loss', patience=5, restore_best_weights=True)\n",
    "checkPoint = keras.callbacks.ModelCheckpoint('model_chck.h5', save_best_only=True)\n",
    "\n",
    "history = model.fit(x_train, y_train, epochs=15, validation_data=(x_test, y_test), callbacks=[earlyStop, checkPoint])"
   ],
   "metadata": {
    "collapsed": false,
    "pycharm": {
     "name": "#%%\n"
    }
   }
  },
  {
   "cell_type": "code",
   "execution_count": 61,
   "outputs": [
    {
     "name": "stdout",
     "output_type": "stream",
     "text": [
      "161/161 [==============================] - 1s 4ms/step - loss: 0.0406 - accuracy: 0.9912\n"
     ]
    }
   ],
   "source": [
    "loss_Q3, acc_Q3 = model.evaluate(x_test, y_test)\n",
    "loss_Q3\n",
    "acc_Q3\n",
    "model.save('model.h5')"
   ],
   "metadata": {
    "collapsed": false,
    "pycharm": {
     "name": "#%%\n"
    }
   }
  },
  {
   "cell_type": "code",
   "execution_count": 65,
   "outputs": [],
   "source": [
    "a =  keras.models.load_model(\"model_chck.h5\")"
   ],
   "metadata": {
    "collapsed": false,
    "pycharm": {
     "name": "#%%\n"
    }
   }
  },
  {
   "cell_type": "code",
   "execution_count": 71,
   "outputs": [],
   "source": [
    "start_time = time.time()"
   ],
   "metadata": {
    "collapsed": false,
    "pycharm": {
     "name": "#%%\n"
    }
   }
  },
  {
   "cell_type": "code",
   "execution_count": 72,
   "outputs": [
    {
     "name": "stdout",
     "output_type": "stream",
     "text": [
      "Epoch 1/10\n",
      "765/765 [==============================] - 12s 14ms/step - loss: 0.0046 - accuracy: 0.9990 - val_loss: 0.0019 - val_accuracy: 0.9995\n",
      "Epoch 2/10\n",
      "765/765 [==============================] - 6s 8ms/step - loss: 0.0014 - accuracy: 0.9997 - val_loss: 0.0079 - val_accuracy: 0.9974\n",
      "Epoch 3/10\n",
      "765/765 [==============================] - 7s 9ms/step - loss: 0.0071 - accuracy: 0.9984 - val_loss: 0.0075 - val_accuracy: 0.9979\n",
      "Epoch 4/10\n",
      "765/765 [==============================] - 7s 9ms/step - loss: 0.0110 - accuracy: 0.9976 - val_loss: 0.0045 - val_accuracy: 0.9990\n",
      "Epoch 5/10\n",
      "765/765 [==============================] - 5s 7ms/step - loss: 0.0018 - accuracy: 0.9995 - val_loss: 0.0027 - val_accuracy: 0.9990\n",
      "Epoch 6/10\n",
      "765/765 [==============================] - 6s 8ms/step - loss: 1.8784e-04 - accuracy: 1.0000 - val_loss: 0.0019 - val_accuracy: 0.9992\n",
      "Epoch 7/10\n",
      "765/765 [==============================] - 7s 8ms/step - loss: 0.0059 - accuracy: 0.9988 - val_loss: 0.0118 - val_accuracy: 0.9971\n",
      "Epoch 8/10\n",
      "765/765 [==============================] - 8s 10ms/step - loss: 0.0055 - accuracy: 0.9985 - val_loss: 0.0146 - val_accuracy: 0.9962\n",
      "Epoch 9/10\n",
      "765/765 [==============================] - 7s 10ms/step - loss: 0.0018 - accuracy: 0.9996 - val_loss: 0.0160 - val_accuracy: 0.9964\n",
      "Epoch 10/10\n",
      "765/765 [==============================] - 9s 11ms/step - loss: 0.0043 - accuracy: 0.9989 - val_loss: 0.0048 - val_accuracy: 0.9985\n"
     ]
    },
    {
     "data": {
      "text/plain": "-192.34797358512878"
     },
     "execution_count": 72,
     "metadata": {},
     "output_type": "execute_result"
    }
   ],
   "source": [
    "history = a.fit(X_train, Y_train, epochs=10,\n",
    "                      validation_split=0.2)\n",
    "end_time = time.time()\n",
    "start_time - end_time"
   ],
   "metadata": {
    "collapsed": false,
    "pycharm": {
     "name": "#%%\n"
    }
   }
  },
  {
   "cell_type": "code",
   "execution_count": 111,
   "outputs": [],
   "source": [
    "a.save_weights(\"yourKerasWeights.ckpt\")"
   ],
   "metadata": {
    "collapsed": false,
    "pycharm": {
     "name": "#%%\n"
    }
   }
  },
  {
   "cell_type": "code",
   "execution_count": 74,
   "outputs": [
    {
     "name": "stdout",
     "output_type": "stream",
     "text": [
      "Epoch 1/20\n",
      "765/765 [==============================] - 6s 7ms/step - loss: 0.0020 - accuracy: 0.9998 - val_loss: 0.0077 - val_accuracy: 0.9985\n",
      "Epoch 2/20\n",
      "765/765 [==============================] - 6s 7ms/step - loss: 0.0058 - accuracy: 0.9989 - val_loss: 0.0204 - val_accuracy: 0.9953\n",
      "Epoch 3/20\n",
      "765/765 [==============================] - 5s 7ms/step - loss: 0.0059 - accuracy: 0.9984 - val_loss: 0.0145 - val_accuracy: 0.9961\n",
      "Epoch 4/20\n",
      "765/765 [==============================] - 5s 7ms/step - loss: 0.0014 - accuracy: 0.9998 - val_loss: 0.0053 - val_accuracy: 0.9979\n",
      "Epoch 5/20\n",
      "765/765 [==============================] - 5s 7ms/step - loss: 0.0019 - accuracy: 0.9996 - val_loss: 0.0042 - val_accuracy: 0.9992\n",
      "Epoch 6/20\n",
      "765/765 [==============================] - 6s 8ms/step - loss: 6.2912e-04 - accuracy: 0.9999 - val_loss: 0.0140 - val_accuracy: 0.9962\n",
      "Epoch 7/20\n",
      "765/765 [==============================] - 6s 8ms/step - loss: 0.0049 - accuracy: 0.9987 - val_loss: 0.0051 - val_accuracy: 0.9982\n",
      "Epoch 8/20\n",
      "765/765 [==============================] - 6s 8ms/step - loss: 0.0047 - accuracy: 0.9991 - val_loss: 0.0124 - val_accuracy: 0.9979\n",
      "Epoch 9/20\n",
      "765/765 [==============================] - 6s 7ms/step - loss: 0.0032 - accuracy: 0.9993 - val_loss: 0.0168 - val_accuracy: 0.9972\n",
      "Epoch 10/20\n",
      "765/765 [==============================] - 6s 8ms/step - loss: 0.0018 - accuracy: 0.9998 - val_loss: 0.0086 - val_accuracy: 0.9975\n",
      "Epoch 11/20\n",
      "765/765 [==============================] - 8s 10ms/step - loss: 0.0027 - accuracy: 0.9993 - val_loss: 0.0211 - val_accuracy: 0.9948\n",
      "Epoch 12/20\n",
      "765/765 [==============================] - 6s 8ms/step - loss: 0.0017 - accuracy: 0.9996 - val_loss: 0.0140 - val_accuracy: 0.9967\n",
      "Epoch 13/20\n",
      "765/765 [==============================] - 5s 7ms/step - loss: 0.0022 - accuracy: 0.9994 - val_loss: 0.0157 - val_accuracy: 0.9971\n",
      "Epoch 14/20\n",
      "765/765 [==============================] - 5s 7ms/step - loss: 0.0057 - accuracy: 0.9987 - val_loss: 0.0069 - val_accuracy: 0.9982\n",
      "Epoch 15/20\n",
      "765/765 [==============================] - 5s 7ms/step - loss: 8.5757e-04 - accuracy: 0.9997 - val_loss: 0.0079 - val_accuracy: 0.9985\n",
      "Epoch 16/20\n",
      "765/765 [==============================] - 7s 9ms/step - loss: 0.0012 - accuracy: 0.9998 - val_loss: 0.0084 - val_accuracy: 0.9982\n",
      "Epoch 17/20\n",
      "765/765 [==============================] - 8s 10ms/step - loss: 0.0020 - accuracy: 0.9998 - val_loss: 0.0096 - val_accuracy: 0.9975\n",
      "Epoch 18/20\n",
      "765/765 [==============================] - 7s 10ms/step - loss: 0.0094 - accuracy: 0.9986 - val_loss: 0.0085 - val_accuracy: 0.9971\n",
      "Epoch 19/20\n",
      "765/765 [==============================] - 5s 7ms/step - loss: 0.0037 - accuracy: 0.9991 - val_loss: 0.0128 - val_accuracy: 0.9972\n",
      "Epoch 20/20\n",
      "765/765 [==============================] - 5s 7ms/step - loss: 0.0052 - accuracy: 0.9989 - val_loss: 0.0170 - val_accuracy: 0.9967\n"
     ]
    }
   ],
   "source": [
    "history_20_a = a.fit(X_train, Y_train, epochs=20,\n",
    "                      validation_split=0.2)"
   ],
   "metadata": {
    "collapsed": false,
    "pycharm": {
     "name": "#%%\n"
    }
   }
  },
  {
   "cell_type": "code",
   "execution_count": 79,
   "outputs": [
    {
     "data": {
      "text/plain": "<Figure size 500x500 with 1 Axes>",
      "image/png": "[encoded data removed]"
     },
     "metadata": {},
     "output_type": "display_data"
    }
   ],
   "source": [
    "df = pd.DataFrame(history_20_a.history)\n",
    "df.plot(figsize=(5, 5))\n",
    "plt.gca().set_ylim(0, 1)\n",
    "plt.show()"
   ],
   "metadata": {
    "collapsed": false,
    "pycharm": {
     "name": "#%%\n"
    }
   }
  },
  {
   "cell_type": "code",
   "execution_count": 169,
   "outputs": [],
   "source": [
    "(x_train, y_train), (x_test, y_test) = keras.datasets.mnist.load_data()\n",
    "x_train = x_train[np.isin(y_train,[5, 6, 7, 8, 9])]\n",
    "y_train = y_train[np.isin(y_train,[5, 6, 7, 8, 9])]\n",
    "x_test = x_test[np.isin(y_test,[5, 6, 7, 8, 9])]\n",
    "y_test = y_test[np.isin(y_test,[5, 6, 7, 8, 9])]\n",
    "x_train = x_train.reshape(-1, 28 * 28)\n",
    "x_train = x_train/255.0\n",
    "x_test = x_test.reshape(-1, 28 * 28)\n",
    "x_test = x_test/255.0"
   ],
   "metadata": {
    "collapsed": false,
    "pycharm": {
     "name": "#%%\n"
    }
   }
  },
  {
   "cell_type": "code",
   "execution_count": 161,
   "outputs": [],
   "source": [
    "# X_train_100 = []\n",
    "# y_train_100 = []\n",
    "# for d in range(5):\n",
    "#     image = np.where(y_train== d)[0][:100]\n",
    "#     for i in image:\n",
    "#         X_train_100.append(X_train[i])\n",
    "#         y_train_100.append(y_train[i])\n",
    "# X_train_100 = np.array(X_train_100)\n",
    "# y_train_100 = np.array(y_train_100)"
   ],
   "metadata": {
    "collapsed": false,
    "pycharm": {
     "name": "#%%\n"
    }
   }
  },
  {
   "cell_type": "code",
   "execution_count": 170,
   "outputs": [],
   "source": [
    "b = keras.Sequential([\n",
    "    layers.Dense(100, activation='elu', input_shape=(28*28,)),\n",
    "    layers.Dense(100, activation='elu'),\n",
    "    layers.Dense(100, activation='elu'),\n",
    "    layers.Dense(100, activation='elu'),\n",
    "    layers.Dense(100, activation='elu'),\n",
    "    layers.Dense(5, activation='softmax')\n",
    "])"
   ],
   "metadata": {
    "collapsed": false,
    "pycharm": {
     "name": "#%%\n"
    }
   }
  },
  {
   "cell_type": "code",
   "execution_count": 163,
   "outputs": [
    {
     "data": {
      "text/plain": "<tensorflow.python.checkpoint.checkpoint.CheckpointLoadStatus at 0x2530919d640>"
     },
     "execution_count": 163,
     "metadata": {},
     "output_type": "execute_result"
    }
   ],
   "source": [
    "b.load_weights(\"yourKerasWeights.ckpt\")"
   ],
   "metadata": {
    "collapsed": false,
    "pycharm": {
     "name": "#%%\n"
    }
   }
  },
  {
   "cell_type": "code",
   "execution_count": 178,
   "outputs": [],
   "source": [
    "# Compile the model with a Softmax output layer and categorical cross-entropy loss function\n",
    "b.compile(loss=\"sparse_categorical_crossentropy\",\n",
    "              optimizer=\"adam\",\n",
    "              metrics=[\"accuracy\"])"
   ],
   "metadata": {
    "collapsed": false,
    "pycharm": {
     "name": "#%%\n"
    }
   }
  },
  {
   "cell_type": "code",
   "execution_count": 182,
   "outputs": [
    {
     "name": "stdout",
     "output_type": "stream",
     "text": [
      "Epoch 1/20\n",
      "919/919 [==============================] - 5s 6ms/step - loss: 0.0140 - accuracy: 0.9955 - val_loss: 0.0725 - val_accuracy: 0.9835\n",
      "Epoch 2/20\n",
      "919/919 [==============================] - 6s 6ms/step - loss: 0.0126 - accuracy: 0.9959 - val_loss: 0.0644 - val_accuracy: 0.9833\n",
      "Epoch 3/20\n",
      "919/919 [==============================] - 5s 6ms/step - loss: 0.0085 - accuracy: 0.9970 - val_loss: 0.0726 - val_accuracy: 0.9827\n",
      "Epoch 4/20\n",
      "919/919 [==============================] - 5s 6ms/step - loss: 0.0123 - accuracy: 0.9965 - val_loss: 0.0582 - val_accuracy: 0.9848\n",
      "Epoch 5/20\n",
      "919/919 [==============================] - 5s 6ms/step - loss: 0.0130 - accuracy: 0.9965 - val_loss: 0.1072 - val_accuracy: 0.9778\n",
      "Epoch 6/20\n",
      "919/919 [==============================] - 5s 6ms/step - loss: 0.0088 - accuracy: 0.9969 - val_loss: 0.0662 - val_accuracy: 0.9860\n",
      "Epoch 7/20\n",
      "919/919 [==============================] - 5s 5ms/step - loss: 0.0124 - accuracy: 0.9959 - val_loss: 0.0761 - val_accuracy: 0.9854\n",
      "Epoch 8/20\n",
      "919/919 [==============================] - 5s 6ms/step - loss: 0.0072 - accuracy: 0.9978 - val_loss: 0.0934 - val_accuracy: 0.9842\n",
      "Epoch 9/20\n",
      "919/919 [==============================] - 6s 7ms/step - loss: 0.0098 - accuracy: 0.9968 - val_loss: 0.0909 - val_accuracy: 0.9835\n",
      "Epoch 10/20\n",
      "919/919 [==============================] - 6s 7ms/step - loss: 0.0113 - accuracy: 0.9965 - val_loss: 0.0895 - val_accuracy: 0.9809\n",
      "Epoch 11/20\n",
      "919/919 [==============================] - 5s 6ms/step - loss: 0.0065 - accuracy: 0.9981 - val_loss: 0.0604 - val_accuracy: 0.9858\n",
      "Epoch 12/20\n",
      "919/919 [==============================] - 5s 5ms/step - loss: 0.0064 - accuracy: 0.9984 - val_loss: 0.0681 - val_accuracy: 0.9846\n",
      "Epoch 13/20\n",
      "919/919 [==============================] - 5s 5ms/step - loss: 0.0081 - accuracy: 0.9976 - val_loss: 0.0694 - val_accuracy: 0.9848\n",
      "Epoch 14/20\n",
      "919/919 [==============================] - 5s 5ms/step - loss: 0.0056 - accuracy: 0.9982 - val_loss: 0.0836 - val_accuracy: 0.9864\n",
      "Epoch 15/20\n",
      "919/919 [==============================] - 5s 5ms/step - loss: 0.0105 - accuracy: 0.9974 - val_loss: 0.0908 - val_accuracy: 0.9850\n",
      "Epoch 16/20\n",
      "919/919 [==============================] - 5s 5ms/step - loss: 0.0077 - accuracy: 0.9980 - val_loss: 0.0687 - val_accuracy: 0.9862\n",
      "Epoch 17/20\n",
      "919/919 [==============================] - 5s 5ms/step - loss: 0.0075 - accuracy: 0.9980 - val_loss: 0.0683 - val_accuracy: 0.9868\n",
      "Epoch 18/20\n",
      "919/919 [==============================] - 5s 5ms/step - loss: 0.0046 - accuracy: 0.9986 - val_loss: 0.1020 - val_accuracy: 0.9827\n",
      "Epoch 19/20\n",
      "919/919 [==============================] - 5s 5ms/step - loss: 0.0063 - accuracy: 0.9986 - val_loss: 0.1173 - val_accuracy: 0.9798\n",
      "Epoch 20/20\n",
      "919/919 [==============================] - 5s 5ms/step - loss: 0.0067 - accuracy: 0.9983 - val_loss: 0.0828 - val_accuracy: 0.9852\n"
     ]
    },
    {
     "data": {
      "text/plain": "102.68135190010071"
     },
     "execution_count": 182,
     "metadata": {},
     "output_type": "execute_result"
    }
   ],
   "source": [
    "# earlyStop = keras.callbacks.EarlyStopping(monitor='val_loss', patience=5, restore_best_weights=True)\n",
    "# checkPoint = keras.callbacks.ModelCheckpoint('model_chck_b.h5', save_best_only=True)\n",
    "(x_train, y_train), (x_test, y_test) = keras.datasets.mnist.load_data()\n",
    "x_train = x_train[y_train >= 5]\n",
    "y_train = y_train[y_train >= 5] - 5\n",
    "x_test = x_test[y_test >= 5]\n",
    "y_test = y_test[y_test >= 5] - 5\n",
    "x_train = x_train.reshape(-1, 28 * 28) / 255.0\n",
    "x_test = x_test.reshape(-1, 28 * 28) / 255.0\n",
    "start = time.time()\n",
    "history = b.fit(x_train, y_train, epochs=20, validation_data=(x_test, y_test))\n",
    "time.time()-start"
   ],
   "metadata": {
    "collapsed": false,
    "pycharm": {
     "name": "#%%\n"
    }
   }
  },
  {
   "cell_type": "code",
   "execution_count": 183,
   "outputs": [
    {
     "data": {
      "text/plain": "<Figure size 500x500 with 1 Axes>",
      "image/png": "[encoded data removed]"
     },
     "metadata": {},
     "output_type": "display_data"
    }
   ],
   "source": [
    "df = pd.DataFrame(history.history)\n",
    "df.plot(figsize=(5, 5))\n",
    "plt.gca().set_ylim(0, 1)\n",
    "plt.show()"
   ],
   "metadata": {
    "collapsed": false,
    "pycharm": {
     "name": "#%%\n"
    }
   }
  },
  {
   "cell_type": "code",
   "execution_count": null,
   "outputs": [],
   "source": [],
   "metadata": {
    "collapsed": false,
    "pycharm": {
     "name": "#%%\n"
    }
   }
  }
 ],
 "metadata": {
  "kernelspec": {
   "display_name": "Python 3",
   "language": "python",
   "name": "python3"
  },
  "language_info": {
   "codemirror_mode": {
    "name": "ipython",
    "version": 2
   },
   "file_extension": ".py",
   "mimetype": "text/x-python",
   "name": "python",
   "nbconvert_exporter": "python",
   "pygments_lexer": "ipython2",
   "version": "2.7.6"
  }
 },
 "nbformat": 4,
 "nbformat_minor": 0
}
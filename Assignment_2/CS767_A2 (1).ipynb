{
 "cells": [
  {
   "cell_type": "markdown",
   "metadata": {
    "id": "qef0HJrb7p7K"
   },
   "source": [
    "# Setup"
   ]
  },
  {
   "cell_type": "code",
   "execution_count": 10,
   "metadata": {
    "id": "uBRt6lYq0Pnf"
   },
   "outputs": [],
   "source": [
    "import numpy as np\n",
    "import pandas as pd\n",
    "import matplotlib.pyplot as plt\n",
    "from sklearn.model_selection import train_test_split\n",
    "from numpy.core.numeric import indices\n",
    "from sklearn.datasets import fetch_california_housing\n",
    "from sklearn import preprocessing"
   ]
  },
  {
   "cell_type": "code",
   "execution_count": 11,
   "metadata": {
    "id": "ijffgfKB2YQq"
   },
   "outputs": [],
   "source": [
    "#get data\n",
    "california_housing = fetch_california_housing(as_frame = True)\n",
    "y = california_housing.target.values\n",
    "x = california_housing.data"
   ]
  },
  {
   "cell_type": "code",
   "execution_count": 13,
   "metadata": {
    "id": "bJm4fdNY-Oqg"
   },
   "outputs": [],
   "source": [
    "#scale\n",
    "scaler = preprocessing.StandardScaler()\n",
    "x = scaler.fit_transform(x)"
   ]
  },
  {
   "cell_type": "code",
   "execution_count": 14,
   "metadata": {
    "id": "XOKLMr2q2Qju"
   },
   "outputs": [],
   "source": [
    "#split\n",
    "x_train, x_test, y_train, y_test = train_test_split(x, y, test_size=0.2, random_state=10)"
   ]
  },
  {
   "cell_type": "code",
   "execution_count": 15,
   "metadata": {
    "id": "L-pg3ioR9arH"
   },
   "outputs": [],
   "source": [
    "#mean square error\n",
    "def meanSquareError(x, y, theta):\n",
    "  m = len(y)\n",
    "  mse = (1 / m) * np.sum(np.square(x.dot(theta) - y))\n",
    "  return mse"
   ]
  },
  {
   "cell_type": "markdown",
   "metadata": {
    "id": "Qbg1vwXT7E9R"
   },
   "source": [
    "# 1. Batch Gradient Descent"
   ]
  },
  {
   "cell_type": "code",
   "execution_count": 16,
   "metadata": {
    "id": "iY2f-Yrt6CVJ"
   },
   "outputs": [],
   "source": [
    "#gradient descent\n",
    "def gradientDescent(x, y, eta, n_iterations):\n",
    "  m = len(y)\n",
    "  theta = np.random.randn(x.shape[1],1) \n",
    "  mses = np.zeros(n_iterations)\n",
    "\n",
    "  #for each iteration\n",
    "  for i in range(n_iterations):\n",
    "    #caluclate gradient\n",
    "    gradients = (1 / m) * x.T.dot(x.dot(theta) - y)\n",
    "    #update theta\n",
    "    theta = theta - (eta * gradients)\n",
    "    #mse\n",
    "    mses[i] = meanSquareError(x, y, theta)\n",
    "  return theta, mses"
   ]
  },
  {
   "cell_type": "code",
   "execution_count": 18,
   "metadata": {
    "colab": {
     "base_uri": "https://localhost:8080/",
     "height": 295
    },
    "id": "CEXcg2xz3uy5",
    "outputId": "32b1d5c5-15c1-4317-9fef-d0f56af983a9"
   },
   "outputs": [
    {
     "data": {
      "image/png": "[encoded data removed]",
      "text/plain": [
       "<Figure size 432x288 with 1 Axes>"
      ]
     },
     "metadata": {
      "needs_background": "light"
     },
     "output_type": "display_data"
    }
   ],
   "source": [
    "eta = .01\n",
    "n_iterations = 100\n",
    "\n",
    "#train\n",
    "x_b = np.c_[np.ones((len(x_train),1)), x_train]\n",
    "theta, mses = gradientDescent(x_b, y_train, eta, n_iterations)\n",
    "\n",
    "#test\n",
    "x_b_test = np.c_[np.ones((len(x_test),1)), x_test]\n",
    "theta_test, mses_test = gradientDescent(x_b_test, y_test, eta, n_iterations)\n",
    "\n",
    "#plots\n",
    "plt.plot(range(n_iterations), mses, label = 'train')\n",
    "plt.plot(range(n_iterations), mses_test, label = 'test')\n",
    "plt.legend(loc = 'upper right')\n",
    "plt.title('MSE of Batch Gradient Descent')\n",
    "plt.xlabel('Iteration')\n",
    "plt.ylabel('MSE')\n",
    "plt.show()"
   ]
  },
  {
   "cell_type": "markdown",
   "metadata": {
    "id": "_5gEwfqc7KjI"
   },
   "source": [
    "# 2. Stochastic Gradient Descent"
   ]
  },
  {
   "cell_type": "code",
   "execution_count": 19,
   "metadata": {
    "id": "A7f2UrBEDoIA"
   },
   "outputs": [],
   "source": [
    "def stocashticGradientDescent(x, y, eta, n_iterations):\n",
    "  m = len(y)\n",
    "  theta = np.random.randn(x.shape[1],1)\n",
    "  mses = np.zeros(n_iterations)\n",
    "\n",
    "  #for each iteration\n",
    "  for i in range(n_iterations):\n",
    "    for j in range(m):\n",
    "      #find random index\n",
    "      index = np.random.randint(m)\n",
    "      #get x and y values\n",
    "      xi = x[index:index + 1]\n",
    "      yi = y[index:index + 1]\n",
    "      #caluclate gradients\n",
    "      gradients = 2 * xi.T.dot(xi.dot(theta) - yi)\n",
    "      #update theta\n",
    "      theta = theta - eta * gradients\n",
    "      #mse\n",
    "      mses[i] = meanSquareError(xi, yi, theta)\n",
    "      return theta, mses"
   ]
  },
  {
   "cell_type": "code",
   "execution_count": 28,
   "metadata": {
    "colab": {
     "base_uri": "https://localhost:8080/",
     "height": 295
    },
    "id": "GzM9sMXR7Ns5",
    "outputId": "624e2822-f0d6-4493-99f9-34e09e6b97d4"
   },
   "outputs": [
    {
     "data": {
      "image/png": "[encoded data removed]",
      "text/plain": [
       "<Figure size 432x288 with 1 Axes>"
      ]
     },
     "metadata": {
      "needs_background": "light"
     },
     "output_type": "display_data"
    }
   ],
   "source": [
    "eta = .001\n",
    "n_iterations = 50\n",
    "\n",
    "#train\n",
    "theta, mses = stocashticGradientDescent(x_b, y_train, eta, n_iterations)\n",
    "\n",
    "#test\n",
    "theta_test, mses_test = stocashticGradientDescent(x_b_test, y_test, eta, n_iterations)\n",
    "\n",
    "#plots\n",
    "plt.plot(range(n_iterations), mses, label = 'train')\n",
    "plt.plot(range(n_iterations), mses_test, label = 'test')\n",
    "plt.legend(loc = 'upper right')\n",
    "plt.title('MSE of Stochashtic Gradient Descent')\n",
    "plt.xlabel('Iteration')\n",
    "plt.ylabel('MSE')\n",
    "plt.show()"
   ]
  },
  {
   "cell_type": "markdown",
   "metadata": {
    "id": "BDjI00WX7b-P"
   },
   "source": [
    "# 3. Minibatch Gradient Descent"
   ]
  },
  {
   "cell_type": "code",
   "execution_count": 29,
   "metadata": {
    "id": "JNPXp-xlEA-s"
   },
   "outputs": [],
   "source": [
    "def minibatchGradientDescent(x, y, eta, n_iterations, batch_size):\n",
    "  m = len(y)\n",
    "  theta = np.random.randn(x.shape[1],1)\n",
    "  mses = np.zeros(n_iterations)\n",
    "\n",
    "  for i in range(n_iterations):\n",
    "    #find random indices\n",
    "    indices = np.random.permutation(m)\n",
    "    #get mini batch\n",
    "    x_mini = x[indices]\n",
    "    y_mini = y[indices]\n",
    "\n",
    "    #for each mini batch\n",
    "    for i in range(0, m, batch_size):\n",
    "      #get x and y values\n",
    "      xi = x_mini[i:i + batch_size]\n",
    "      yi = y_mini[i:i + batch_size]\n",
    "      #caluclate gradients\n",
    "      gradients = (1 / m) * xi.T.dot(xi.dot(theta) - yi)\n",
    "      #update theta\n",
    "      theta = theta - eta * gradients\n",
    "      #mse\n",
    "      mses[i] = meanSquareError(xi, yi, theta)\n",
    "      return theta, mses"
   ]
  },
  {
   "cell_type": "code",
   "execution_count": 32,
   "metadata": {
    "colab": {
     "base_uri": "https://localhost:8080/",
     "height": 295
    },
    "id": "QGgZx51Z7fYd",
    "outputId": "1b5229e4-4a0b-415b-c982-dd23f30f1040"
   },
   "outputs": [
    {
     "data": {
      "image/png": "[encoded data removed]",
      "text/plain": [
       "<Figure size 432x288 with 1 Axes>"
      ]
     },
     "metadata": {
      "needs_background": "light"
     },
     "output_type": "display_data"
    }
   ],
   "source": [
    "eta = .001\n",
    "n_iterations = 50\n",
    "batch_size = 20\n",
    "\n",
    "#train      \n",
    "theta, mses = minibatchGradientDescent(x_b, y_train, eta, n_iterations, batch_size)\n",
    "\n",
    "#test     \n",
    "theta_test, mses_test = minibatchGradientDescent(x_b_test, y_test, eta, n_iterations, batch_size)\n",
    "\n",
    "#plot\n",
    "plt.plot(range(n_iterations), mses, label = 'train')\n",
    "plt.plot(range(n_iterations), mses_test, label = 'test')\n",
    "plt.legend(loc = 'upper right')\n",
    "plt.title('MSE of Mini Batch Gradient Descent')\n",
    "plt.xlabel('Iteration')\n",
    "plt.ylabel('MSE')\n",
    "plt.show()"
   ]
  }
 ],
 "metadata": {
  "accelerator": "GPU",
  "colab": {
   "collapsed_sections": [
    "qef0HJrb7p7K"
   ],
   "provenance": []
  },
  "gpuClass": "standard",
  "kernelspec": {
   "display_name": "Python 3",
   "language": "python",
   "name": "python3"
  },
  "language_info": {
   "codemirror_mode": {
    "name": "ipython",
    "version": 3
   },
   "file_extension": ".py",
   "mimetype": "text/x-python",
   "name": "python",
   "nbconvert_exporter": "python",
   "pygments_lexer": "ipython3",
   "version": "3.8.5"
  }
 },
 "nbformat": 4,
 "nbformat_minor": 1
}
